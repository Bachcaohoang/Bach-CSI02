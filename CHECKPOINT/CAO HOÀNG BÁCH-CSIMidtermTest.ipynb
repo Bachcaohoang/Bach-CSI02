{
 "cells": [
  {
   "cell_type": "markdown",
   "metadata": {},
   "source": [
    "## BÀI 1"
   ]
  },
  {
   "cell_type": "code",
   "execution_count": 30,
   "metadata": {},
   "outputs": [
    {
     "name": "stdout",
     "output_type": "stream",
     "text": [
      "8\n",
      "7\n",
      "None\n",
      "None\n",
      "Correct answer on sample test!\n"
     ]
    }
   ],
   "source": [
    "\n",
    "def find_mode(arr):\n",
    "    if not arr:\n",
    "        return None\n",
    "\n",
    "    N = {}\n",
    "    for num in arr:\n",
    "        if num in N:\n",
    "            N[num] += 1\n",
    "        else:\n",
    "            N[num] = 1\n",
    "\n",
    "    max_N = max(N.values())\n",
    "\n",
    "    if max_N < 2:\n",
    "        return None\n",
    "\n",
    "    modes = [key for key in N if N[key] == max_N]\n",
    "\n",
    "    return max(modes)\n",
    "    \n",
    "print(find_mode([1, 2, 3, 2, 3,7,8,8])) \n",
    "print(find_mode([1, 2, 2, 3, 3,7,6,8,7]))  \n",
    "print(find_mode([1, 2, 3, 4,5,6,7,8,9]))     \n",
    "print(find_mode([]))        \n",
    "\n",
    "try:\n",
    "    assert(find_mode([1, 2, 3, 2, 3]) == 3)\n",
    "    print('Correct answer on sample test!')\n",
    "except:\n",
    "    print('Invalid submission or Wrong answer!')\n",
    "\n"
   ]
  },
  {
   "cell_type": "markdown",
   "metadata": {},
   "source": [
    "## Bài 3"
   ]
  },
  {
   "cell_type": "code",
   "execution_count": 29,
   "metadata": {},
   "outputs": [
    {
     "name": "stdout",
     "output_type": "stream",
     "text": [
      "2\n",
      "1\n",
      "2\n",
      "0\n",
      "5\n"
     ]
    }
   ],
   "source": [
    "def count_swap(arr):\n",
    "    n = len(arr)\n",
    "    \n",
    "    sorted_arr = sorted(arr)\n",
    "    index_map = {value: i for i, value in enumerate(sorted_arr)}\n",
    "    \n",
    "    visited = [False] * n  \n",
    "    swaps = 0              \n",
    "\n",
    "    for i in range(n):\n",
    "        if visited[i] or arr[i] == sorted_arr[i]:\n",
    "            continue\n",
    "\n",
    "        cycle_size = 0\n",
    "        x = i\n",
    "        while not visited[x]:\n",
    "            visited[x] = True\n",
    "            x = index_map[arr[x]]\n",
    "            cycle_size += 1\n",
    "\n",
    "        if cycle_size > 1:\n",
    "            swaps += (cycle_size - 1)\n",
    "\n",
    "    return swaps\n",
    "\n",
    "\n",
    "print(count_swap([2, 5, 3, 1]))  \n",
    "\n",
    "print(count_swap([5, 2, 3, 1])) \n",
    "\n",
    "print(count_swap([4, 3, 2, 1]))  \n",
    "\n",
    "print(count_swap([1, 2, 3, 4]))  \n",
    "\n",
    "print(count_swap([7, 1, 3, 2, 4, 5, 6]))  \n",
    "\n"
   ]
  },
  {
   "cell_type": "markdown",
   "metadata": {},
   "source": [
    "## BÀI 2"
   ]
  },
  {
   "cell_type": "code",
   "execution_count": 37,
   "metadata": {},
   "outputs": [
    {
     "name": "stdout",
     "output_type": "stream",
     "text": [
      "True\n",
      "True\n",
      "True\n",
      "True\n",
      "False\n"
     ]
    }
   ],
   "source": [
    "def has_subarray_with_sum(k, arr):\n",
    "    current_sum = 0\n",
    "    prefix_sum = {0: 1}  \n",
    "    \n",
    "    for num in arr:\n",
    "        current_sum += num\n",
    "        \n",
    "        if (current_sum - k) in prefix_sum:\n",
    "            return True\n",
    "        \n",
    "        if current_sum in prefix_sum:\n",
    "            prefix_sum[current_sum] += 1\n",
    "        else:\n",
    "            prefix_sum[current_sum] = 1\n",
    "    \n",
    "    return False\n",
    "\n",
    "print(has_subarray_with_sum(9, [1, 5, 3, 2, 5]))  \n",
    "\n",
    "print(has_subarray_with_sum(5, [1, 5, 3, 2, 5]))  \n",
    "\n",
    "print(has_subarray_with_sum(15, [1, 2, 3, 4, 5]))  \n",
    "\n",
    "print(has_subarray_with_sum(6, [1, 2, 3]))  \n",
    "\n",
    "print(has_subarray_with_sum(5, [1, -1, 2, -2, 3]))  \n",
    "\n"
   ]
  }
 ],
 "metadata": {
  "kernelspec": {
   "display_name": "Python 3",
   "language": "python",
   "name": "python3"
  },
  "language_info": {
   "codemirror_mode": {
    "name": "ipython",
    "version": 3
   },
   "file_extension": ".py",
   "mimetype": "text/x-python",
   "name": "python",
   "nbconvert_exporter": "python",
   "pygments_lexer": "ipython3",
   "version": "3.12.3"
  }
 },
 "nbformat": 4,
 "nbformat_minor": 2
}
