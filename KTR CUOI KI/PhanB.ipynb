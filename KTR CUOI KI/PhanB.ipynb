{
 "cells": [
  {
   "cell_type": "markdown",
   "metadata": {},
   "source": [
    "##  Câu 8: SQL là gì? Viết truy vấn SQL để lấy tất cả khách hàng có tổng chi tiêu trên 10 triệu từ bảng orders có cấu trúc như sau:\n",
    "CREATE TABLE orders (\n",
    "    order_id INT PRIMARY KEY,       -- Mã đơn hàng\n",
    "    customer_id INT,                 -- Mã khách hàng\n",
    "    order_date DATE,                 -- Ngày đặt hàng\n",
    "    total_amount DECIMAL(12,2)       -- Tổng số tiền của đơn hàng\n",
    ");\n"
   ]
  },
  {
   "cell_type": "markdown",
   "metadata": {},
   "source": [
    "##\n",
    "SQL (Structured Query Language) là ngôn ngữ được sử dụng để quản lý và thao tác cơ sở dữ liệu quan hệ. Nó cung cấp các lệnh để truy vấn, cập nhật, chèn, xóa dữ liệu cũng như quản lý cấu trúc của cơ sở dữ liệu."
   ]
  },
  {
   "cell_type": "markdown",
   "metadata": {},
   "source": [
    "##   Câu 9: Trong Python, thư viện Pandas có chức năng gì? Hãy viết đoạn mã để đọc file CSV vào DataFrame và hiển thị 5 dòng đầu tiên."
   ]
  },
  {
   "cell_type": "code",
   "execution_count": 1,
   "metadata": {},
   "outputs": [],
   "source": [
    "import pandas as pd  # Import thư viện Pandas\n",
    "\n",
    "\n"
   ]
  },
  {
   "cell_type": "code",
   "execution_count": null,
   "metadata": {},
   "outputs": [],
   "source": [
    "df = pd.read_csv(\"D:\\Lập trình\\Lập bài tập\\THUCHANH\\Bach-CSI02\\KTR CUOI KI\\data.xlsx\")\n",
    "\n",
    "\n",
    "print(df.head()) "
   ]
  },
  {
   "cell_type": "markdown",
   "metadata": {},
   "source": [
    "##\n",
    "Pandas là một thư viện mạnh mẽ trong Python dùng để thao tác và phân tích dữ liệu. Nó cung cấp các cấu trúc dữ liệu như DataFrame (bảng 2D giống Excel) và Series (danh sách một chiều), giúp xử lý dữ liệu một cách hiệu quả."
   ]
  },
  {
   "cell_type": "markdown",
   "metadata": {},
   "source": [
    "## Câu 10: Giải thích sự khác biệt giữa Supervised Learning và Unsupervised Learning trong Machine Learning.\n"
   ]
  },
  {
   "cell_type": "markdown",
   "metadata": {},
   "source": [
    "##\n",
    "Trong Machine Learning, Supervised Learning (học có giám sát) và Unsupervised Learning (học không giám sát) là hai phương pháp học tập chính, khác nhau về cách sử dụng dữ liệu để huấn luyện mô hình.\n",
    "\n",
    "Supervised Learning là phương pháp trong đó mô hình được huấn luyện trên một tập dữ liệu có nhãn. Nghĩa là mỗi mẫu dữ liệu đầu vào đi kèm với một đầu ra mong muốn, giúp mô hình học được mối quan hệ giữa chúng. Mục tiêu của Supervised Learning là dự đoán chính xác nhãn của dữ liệu mới. Phương pháp này thường được sử dụng trong các bài toán phân loại (classification) như nhận diện chữ viết tay, phát hiện email spam, hoặc hồi quy (regression) như dự đoán giá nhà.\n",
    "\n",
    "Ngược lại, Unsupervised Learning hoạt động trên tập dữ liệu không có nhãn. Mô hình tự tìm kiếm các mẫu, cấu trúc ẩn hoặc mối quan hệ trong dữ liệu mà không có sự hướng dẫn cụ thể. Phương pháp này thường được áp dụng trong các bài toán như phân cụm khách hàng (clustering), phát hiện gian lận, hoặc giảm chiều dữ liệu."
   ]
  },
  {
   "cell_type": "markdown",
   "metadata": {},
   "source": [
    "## Câu 11: Hãy mô tả quy trình chuẩn bị dữ liệu trước khi phân tích trong một dự án Data Analysis."
   ]
  },
  {
   "cell_type": "markdown",
   "metadata": {},
   "source": [
    "##\n",
    "Quy trình chuẩn bị dữ liệu trước khi phân tích\n",
    "Thu thập dữ liệu từ các nguồn như CSV, SQL, API, web scraping.\n",
    "Làm sạch dữ liệu: Xử lý giá trị thiếu, loại bỏ trùng lặp, sửa lỗi định dạng.\n",
    "Chuyển đổi dữ liệu: Chuẩn hóa, mã hóa dữ liệu phân loại, tạo đặc trưng mới.\n",
    "Khám phá dữ liệu (EDA): Thống kê mô tả, trực quan hóa dữ liệu để phát hiện xu hướng.\n",
    "Tích hợp & chọn lọc dữ liệu: Kết hợp nhiều nguồn, chọn cột quan trọng.\n",
    "Lưu trữ & chuẩn bị: Lưu dữ liệu sạch vào định dạng phù hợp để phân tích."
   ]
  }
 ],
 "metadata": {
  "kernelspec": {
   "display_name": "Python 3",
   "language": "python",
   "name": "python3"
  },
  "language_info": {
   "codemirror_mode": {
    "name": "ipython",
    "version": 3
   },
   "file_extension": ".py",
   "mimetype": "text/x-python",
   "name": "python",
   "nbconvert_exporter": "python",
   "pygments_lexer": "ipython3",
   "version": "3.12.3"
  }
 },
 "nbformat": 4,
 "nbformat_minor": 2
}
